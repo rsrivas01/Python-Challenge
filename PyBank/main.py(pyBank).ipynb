{
 "cells": [
  {
   "cell_type": "code",
   "execution_count": 1,
   "metadata": {},
   "outputs": [],
   "source": [
    "# Dependencies\n",
    "import os\n",
    "import csv"
   ]
  },
  {
   "cell_type": "code",
   "execution_count": 2,
   "metadata": {},
   "outputs": [],
   "source": [
    "# Load file\n",
    "file_path = os.path.join('Resources','budget_data.csv')\n",
    "file_to_output = os.path.join(\"Analysis\", \"Financial_Analysis\")"
   ]
  },
  {
   "cell_type": "code",
   "execution_count": 3,
   "metadata": {},
   "outputs": [],
   "source": [
    "# Parameters\n",
    "total_months = 0\n",
    "net_total = 0\n",
    "total_net_change = 0\n",
    "netlist_change = 0\n",
    "month_change = 0\n",
    "greatest_increase = 0\n",
    "greatest_decrease = 0\n",
    "greatest_increase_month = \"\"\n",
    "greatest_decrease_month = \"\""
   ]
  },
  {
   "cell_type": "code",
   "execution_count": 4,
   "metadata": {},
   "outputs": [],
   "source": [
    "# Read csv and convert into a list of dictionaries\n",
    "with open(file_path) as financial_data:\n",
    "    reader = csv.reader(financial_data, delimiter=',')\n",
    "    \n",
    "    # Read header\n",
    "    header = next(reader)\n",
    "    first_row = next(reader)\n",
    "    previous_net = int(first_row[1])\n",
    "    \n",
    "    #For each row in the CSV file\n",
    "    for row in reader:\n",
    "    \n",
    "        # Track total\n",
    "        total_months += 1\n",
    "        current_net = int(row[1])\n",
    "        net_total += current_net\n",
    "        \n",
    "        if previous_net != 0:\n",
    "            net_change = current_net - previous_net\n",
    "            total_net_change += net_change\n",
    "            month_change += 1\n",
    "            \n",
    "        previous_net = current_net\n",
    "\n",
    "        # Calculate greatest increase\n",
    "        if net_change > greatest_increase:\n",
    "            greatest_increase = net_change\n",
    "            greatest_increase_month = row[0]\n",
    "\n",
    "        # Calculate greatest decrease\n",
    "        if net_change < greatest_decrease:\n",
    "            greatest_decrease = net_change\n",
    "            greatest_decrease_month = row[0]\n",
    "            \n",
    "    "
   ]
  },
  {
   "cell_type": "code",
   "execution_count": 5,
   "metadata": {},
   "outputs": [
    {
     "name": "stdout",
     "output_type": "stream",
     "text": [
      "\n",
      "Financial Analysis\n",
      "------------------------------------------------\n",
      "Total Months: 85\n",
      "Total: $37,514,694\n",
      "Average Change: $-2315.12\n",
      "Greatest Increase in Profits: Feb-2012 $1926159\n",
      "Greatest Decrease in Profits: Sep-2013 $-2196167\n",
      "\n"
     ]
    }
   ],
   "source": [
    "output = f\"\"\"\n",
    "Financial Analysis\n",
    "------------------------------------------------\n",
    "Total Months: {total_months}\n",
    "Total: ${net_total:,}\n",
    "Average Change: ${total_net_change / month_change:.2f}\n",
    "Greatest Increase in Profits: {greatest_increase_month} ${greatest_increase}\n",
    "Greatest Decrease in Profits: {greatest_decrease_month} ${greatest_decrease}\n",
    "\"\"\"\n",
    "\n",
    "print(output)"
   ]
  },
  {
   "cell_type": "code",
   "execution_count": 6,
   "metadata": {},
   "outputs": [],
   "source": [
    "with open(file_to_output, 'w') as txt_file:\n",
    "    txt_file.write(output)"
   ]
  },
  {
   "cell_type": "code",
   "execution_count": null,
   "metadata": {},
   "outputs": [],
   "source": []
  }
 ],
 "metadata": {
  "kernelspec": {
   "display_name": "Python 3",
   "language": "python",
   "name": "python3"
  },
  "language_info": {
   "codemirror_mode": {
    "name": "ipython",
    "version": 3
   },
   "file_extension": ".py",
   "mimetype": "text/x-python",
   "name": "python",
   "nbconvert_exporter": "python",
   "pygments_lexer": "ipython3",
   "version": "3.7.4"
  }
 },
 "nbformat": 4,
 "nbformat_minor": 2
}
