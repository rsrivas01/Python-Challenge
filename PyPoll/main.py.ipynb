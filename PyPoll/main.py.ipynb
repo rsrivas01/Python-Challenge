{
 "cells": [
  {
   "cell_type": "code",
   "execution_count": 1,
   "metadata": {},
   "outputs": [],
   "source": [
    "# Dependencies\n",
    "import os\n",
    "import csv"
   ]
  },
  {
   "cell_type": "code",
   "execution_count": 2,
   "metadata": {},
   "outputs": [],
   "source": [
    "# Load file\n",
    "file_path = os.path.join('Resources', 'election_data.csv')\n",
    "output_file = os.path.join(\"Analysis\", \"Output.txt\")\n",
    "\n",
    "# Total vote count begins at 0\n",
    "total_votes = 0\n",
    "voter_count = 0\n",
    "khan_votes = 0\n",
    "correy_votes = 0\n",
    "li_votes = 0\n",
    "otooley_votes = 0\n",
    "maximum_votes = 0\n",
    "\n"
   ]
  },
  {
   "cell_type": "code",
   "execution_count": 3,
   "metadata": {},
   "outputs": [],
   "source": [
    "with open(file_path) as election_data:\n",
    "    reader = csv.reader(election_data, delimiter=',')\n",
    "    \n",
    "    # Read header and skip\n",
    "    header = next(reader)\n",
    "    \n",
    "    for row in reader:\n",
    "                \n",
    "        # To count total of votes\n",
    "        total_votes += 1\n",
    "        \n",
    "        # To count votes per candidates\n",
    "        if row[2] == \"Khan\":\n",
    "            khan_votes += 1\n",
    "        elif row[2] == \"Correy\":\n",
    "            correy_votes += 1\n",
    "        elif row[2] == \"Li\":\n",
    "            li_votes += 1\n",
    "        elif row[2] == \"O'Tooley\":\n",
    "            otooley_votes += 1\n",
    "\n",
    "# Calculate percentage of votes each candidate\n",
    "khan_percentage = (khan_votes / total_votes) * 100\n",
    "correy_percentage = (correy_votes / total_votes) * 100\n",
    "li_percentage = (li_votes / total_votes) * 100\n",
    "otooley_percentage = (otooley_votes / total_votes) * 100\n",
    "        \n",
    "        \n",
    "   "
   ]
  },
  {
   "cell_type": "code",
   "execution_count": 4,
   "metadata": {},
   "outputs": [
    {
     "name": "stdout",
     "output_type": "stream",
     "text": [
      "{'Khan': 2218231, 'Correy': 704200, 'Li': 492940, \"O'Tooley\": 105630}\n"
     ]
    }
   ],
   "source": [
    "# Candidates and their votes\n",
    "candidates_vote_numbers = {\"Khan\": khan_votes,\n",
    "                          \"Correy\": correy_votes,\n",
    "                          \"Li\": li_votes,\n",
    "                          \"O'Tooley\": otooley_votes}\n",
    "\n",
    "print(candidates_vote_numbers)"
   ]
  },
  {
   "cell_type": "code",
   "execution_count": 5,
   "metadata": {},
   "outputs": [],
   "source": [
    "# To find the winner\n",
    "for candidate, votes in candidates_vote_numbers.items():\n",
    "    if votes > maximum_votes:\n",
    "        maximum_votes = votes\n",
    "        winner = candidate"
   ]
  },
  {
   "cell_type": "code",
   "execution_count": 6,
   "metadata": {},
   "outputs": [
    {
     "name": "stdout",
     "output_type": "stream",
     "text": [
      "\n",
      "Election Results\n",
      "----------------------------------\n",
      "Total Votes: 3521001\n",
      "----------------------------------\n",
      "Khan: 63.000% 2218231\n",
      "Correy: 20.000% 704200\n",
      "Li: 14.000% 492940\n",
      "O'Tooley: 3.000% 492940\n",
      "----------------------------------\n",
      "Winner: Khan\n",
      "\n",
      "\n"
     ]
    }
   ],
   "source": [
    "# Display total votes, percent and votes for each candidate\n",
    "# And the winner\n",
    "output = f\"\"\"\n",
    "Election Results\n",
    "----------------------------------\n",
    "Total Votes: {total_votes}\n",
    "----------------------------------\n",
    "Khan: {khan_percentage:.3f}% {khan_votes}\n",
    "Correy: {correy_percentage:.3f}% {(correy_votes)}\n",
    "Li: {li_percentage:.3f}% {(li_votes)}\n",
    "O'Tooley: {otooley_percentage:.3f}% {(li_votes)}\n",
    "----------------------------------\n",
    "Winner: {winner}\n",
    "\n",
    "\"\"\"\n",
    "print(output)"
   ]
  },
  {
   "cell_type": "code",
   "execution_count": 7,
   "metadata": {},
   "outputs": [],
   "source": [
    "with open(output_file, 'w') as text_file:\n",
    "    text_file.write(output)"
   ]
  },
  {
   "cell_type": "code",
   "execution_count": null,
   "metadata": {},
   "outputs": [],
   "source": []
  },
  {
   "cell_type": "code",
   "execution_count": null,
   "metadata": {},
   "outputs": [],
   "source": []
  }
 ],
 "metadata": {
  "kernelspec": {
   "display_name": "Python 3",
   "language": "python",
   "name": "python3"
  },
  "language_info": {
   "codemirror_mode": {
    "name": "ipython",
    "version": 3
   },
   "file_extension": ".py",
   "mimetype": "text/x-python",
   "name": "python",
   "nbconvert_exporter": "python",
   "pygments_lexer": "ipython3",
   "version": "3.7.4"
  }
 },
 "nbformat": 4,
 "nbformat_minor": 2
}
